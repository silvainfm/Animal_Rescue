{
 "cells": [
  {
   "cell_type": "code",
   "execution_count": null,
   "metadata": {
    "collapsed": true
   },
   "outputs": [],
   "source": [
    "import pymongo\n",
    "import pandas as pd\n",
    "\n",
    "# Connect to MongoDB\n",
    "client = pymongo.MongoClient(\"mongodb://localhost:27017/\")\n",
    "db = client[\"animal_rescue\"]\n",
    "animals_collection = db[\"animals\"]\n",
    "\n",
    "# Read Excel file into Pandas DataFrame\n",
    "df = pd.read_excel('animal_data.xlsx') \n",
    "\n",
    "# Convert DataFrame to dictionary\n",
    "data = df.to_dict('records') \n",
    "\n",
    "# Insert into MongoDB collection\n",
    "animals_collection.insert_many(data)"
   ]
  },
  {
   "cell_type": "code",
   "execution_count": null,
   "metadata": {},
   "outputs": [],
   "source": [
    "from flask import Flask, render_template, request, redirect \n",
    "\n",
    "app = Flask(__name__)\n",
    "\n",
    "# Connect to MongoDB\n",
    "client = pymongo.MongoClient(\"mongodb://localhost:27017/\")\n",
    "db = client[\"animal_rescue\"]\n",
    "animals_collection = db[\"animals\"]\n",
    "\n",
    "@app.route(\"/\")\n",
    "def index():\n",
    "    animals = animals_collection.find()\n",
    "    return render_template(\"index.html\", animals=animals)\n",
    "\n",
    "@app.route(\"/animal/<animal_id>\")\n",
    "def animal_profile(animal_id):\n",
    "    animal = animals_collection.find_one({\"_id\": animal_id})\n",
    "    return render_template(\"profile.html\", animal=animal) \n",
    "\n",
    "@app.route(\"/search\")\n",
    "def search():\n",
    "    name = request.args.get(\"name\") \n",
    "    query = {\"name\": {\"$regex\": name, \"$options\": \"i\"}}\n",
    "    animals = animals_collection.find(query)\n",
    "    return render_template(\"search.html\", animals=animals)\n",
    "    \n",
    "if __name__ == \"__main__\":\n",
    "    app.run(debug=True)"
   ]
  }
 ],
 "metadata": {
  "kernelspec": {
   "display_name": "base",
   "language": "python",
   "name": "python3"
  },
  "language_info": {
   "codemirror_mode": {
    "name": "ipython",
    "version": 3
   },
   "file_extension": ".py",
   "mimetype": "text/x-python",
   "name": "python",
   "nbconvert_exporter": "python",
   "pygments_lexer": "ipython3",
   "version": "3.8.3"
  },
  "vscode": {
   "interpreter": {
    "hash": "211f82d1d98c61b213f5231535a17871fe0aa6d7b965b6ee1d683101a3457b25"
   }
  }
 },
 "nbformat": 4,
 "nbformat_minor": 2
}
